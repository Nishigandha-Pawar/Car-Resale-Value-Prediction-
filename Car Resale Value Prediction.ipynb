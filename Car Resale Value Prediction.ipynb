{
 "cells": [
  {
   "cell_type": "markdown",
   "id": "c8dfd7d7-3979-429b-a831-579e3be4af62",
   "metadata": {},
   "source": [
    "## Car Resale Value Prediction"
   ]
  },
  {
   "cell_type": "markdown",
   "id": "e7690d34-2286-45ac-aa94-59b07a78b87e",
   "metadata": {},
   "source": [
    "### Problem Statement:\n",
    "The dataset provides detailed information about used cars, including features such as mileage, engine size, and horsepower. The objective is to perform exploratory data analysis (EDA) and apply machine learning techniques to understand how these factors influence car resale value and to build predictive models for estimating resale prices."
   ]
  },
  {
   "cell_type": "markdown",
   "id": "09443422-0a48-4fa1-a63e-051411029bed",
   "metadata": {},
   "source": [
    "### Objective\n",
    "\n",
    "The main objective of this project is to analyze the car resale dataset using exploratory data analysis (EDA) techniques to identify key patterns and relationships between features such as mileage, engine size, and horsepower, and to build machine learning models that can accurately predict the resale value of cars."
   ]
  },
  {
   "cell_type": "markdown",
   "id": "a2a2fe82-7ea2-4a47-84f6-da721148351b",
   "metadata": {},
   "source": [
    "### Columns in Car Resale Dataset:\n",
    "\n",
    "● Car_Age → How old the car is, usually in years (calculated from the manufacturing year).<br>\n",
    "● Mileage_km → The total distance the car has been driven, measured in kilometers.<br>\n",
    "● Engine_Size_L → The size (capacity) of the car’s engine in liters (L). Bigger engines are usually more powerful but consume more fuel.<br>\n",
    "● Horsepower → The power output of the engine, showing how strong and fast the car can be.<br>\n",
    "● Previous_Owners → The number of people who have owned the car before (e.g., 1 = first-hand, 2 = second-hand).<br>\n",
    "● Accidents → The number of accidents the car has been involved in (helps assess condition and resale value).<br>\n",
    "● Resale_Price → The price at which the car is being resold in the used car market (this is your target variable for ML)."
   ]
  },
  {
   "cell_type": "markdown",
   "id": "3c3ba329-9c06-404c-963b-a8da71d9c968",
   "metadata": {},
   "source": [
    "### Importing required libraries"
   ]
  },
  {
   "cell_type": "code",
   "execution_count": 3,
   "id": "fb7860cd-baaf-4895-af88-93cc3b0edba5",
   "metadata": {},
   "outputs": [],
   "source": [
    "import numpy as np \n",
    "import pandas as pd\n",
    "import seaborn as sns\n",
    "import matplotlib.pyplot as plt"
   ]
  },
  {
   "cell_type": "markdown",
   "id": "8d68cc0c-ab3e-42bc-b11f-ed6b1af5a755",
   "metadata": {},
   "source": [
    "### Loading and Getting a Glimpse of the Dataset\n",
    "The dataset available is in .xls format, so I will load the dataset in csv format to start data analysis."
   ]
  },
  {
   "cell_type": "code",
   "execution_count": 4,
   "id": "5c49f786-7b6a-4c6f-8099-c228b91f8c57",
   "metadata": {},
   "outputs": [],
   "source": [
    "#Importing required file\n",
    "car=pd.read_csv(r\"car_resale_value_datasettt.csv\")"
   ]
  },
  {
   "cell_type": "code",
   "execution_count": 5,
   "id": "11e66f3f-0355-4221-ba41-4cd656c9a12e",
   "metadata": {},
   "outputs": [
    {
     "data": {
      "text/html": [
       "<div>\n",
       "<style scoped>\n",
       "    .dataframe tbody tr th:only-of-type {\n",
       "        vertical-align: middle;\n",
       "    }\n",
       "\n",
       "    .dataframe tbody tr th {\n",
       "        vertical-align: top;\n",
       "    }\n",
       "\n",
       "    .dataframe thead th {\n",
       "        text-align: right;\n",
       "    }\n",
       "</style>\n",
       "<table border=\"1\" class=\"dataframe\">\n",
       "  <thead>\n",
       "    <tr style=\"text-align: right;\">\n",
       "      <th></th>\n",
       "      <th>Car_AGE</th>\n",
       "      <th>Mileage_km</th>\n",
       "      <th>Engine_Size_l</th>\n",
       "      <th>HORSEPOWER</th>\n",
       "      <th>PreviousOwners</th>\n",
       "      <th>ACCIDENTS</th>\n",
       "      <th>Resale_Price</th>\n",
       "    </tr>\n",
       "  </thead>\n",
       "  <tbody>\n",
       "    <tr>\n",
       "      <th>0</th>\n",
       "      <td>7</td>\n",
       "      <td>171981.0</td>\n",
       "      <td>3.2</td>\n",
       "      <td>234</td>\n",
       "      <td>4</td>\n",
       "      <td>0</td>\n",
       "      <td>339043.5</td>\n",
       "    </tr>\n",
       "    <tr>\n",
       "      <th>1</th>\n",
       "      <td>15</td>\n",
       "      <td>225411.0</td>\n",
       "      <td>2.2</td>\n",
       "      <td>143</td>\n",
       "      <td>1</td>\n",
       "      <td>4</td>\n",
       "      <td>101762.5</td>\n",
       "    </tr>\n",
       "    <tr>\n",
       "      <th>2</th>\n",
       "      <td>11</td>\n",
       "      <td>24870.0</td>\n",
       "      <td>3.8</td>\n",
       "      <td>81</td>\n",
       "      <td>1</td>\n",
       "      <td>2</td>\n",
       "      <td>355626.0</td>\n",
       "    </tr>\n",
       "    <tr>\n",
       "      <th>3</th>\n",
       "      <td>8</td>\n",
       "      <td>170650.0</td>\n",
       "      <td>4.0</td>\n",
       "      <td>86</td>\n",
       "      <td>4</td>\n",
       "      <td>1</td>\n",
       "      <td>317127.0</td>\n",
       "    </tr>\n",
       "    <tr>\n",
       "      <th>4</th>\n",
       "      <td>7</td>\n",
       "      <td>208196.0</td>\n",
       "      <td>1.6</td>\n",
       "      <td>254</td>\n",
       "      <td>3</td>\n",
       "      <td>0</td>\n",
       "      <td>297412.0</td>\n",
       "    </tr>\n",
       "  </tbody>\n",
       "</table>\n",
       "</div>"
      ],
      "text/plain": [
       "   Car_AGE  Mileage_km  Engine_Size_l  HORSEPOWER  PreviousOwners  ACCIDENTS  \\\n",
       "0        7    171981.0            3.2         234               4          0   \n",
       "1       15    225411.0            2.2         143               1          4   \n",
       "2       11     24870.0            3.8          81               1          2   \n",
       "3        8    170650.0            4.0          86               4          1   \n",
       "4        7    208196.0            1.6         254               3          0   \n",
       "\n",
       "   Resale_Price  \n",
       "0      339043.5  \n",
       "1      101762.5  \n",
       "2      355626.0  \n",
       "3      317127.0  \n",
       "4      297412.0  "
      ]
     },
     "execution_count": 5,
     "metadata": {},
     "output_type": "execute_result"
    }
   ],
   "source": [
    "## exploring first five variables to identify anamolies in the data\n",
    "car.head()"
   ]
  },
  {
   "cell_type": "code",
   "execution_count": 6,
   "id": "a2fc010f-b984-43ab-a3ce-919462237172",
   "metadata": {},
   "outputs": [],
   "source": [
    "## renaming some features to make it more readable feature names\n",
    "car.rename(columns={\"Car_AGE\":\"Car_Age\",\n",
    "                    \"Engine_Size_l\":\"Engine_Size_Litre\",\n",
    "                    \"HORSEPOWER\":\"Horse_Power\",\n",
    "                    \"PreviousOwners\":\"Previous_Owners\",\n",
    "                    \"ACCIDENTS\":\"Accidents\"},inplace=True)\n"
   ]
  },
  {
   "cell_type": "code",
   "execution_count": 7,
   "id": "931887a1-c3aa-4645-a32b-6101be41fdae",
   "metadata": {},
   "outputs": [
    {
     "data": {
      "text/html": [
       "<div>\n",
       "<style scoped>\n",
       "    .dataframe tbody tr th:only-of-type {\n",
       "        vertical-align: middle;\n",
       "    }\n",
       "\n",
       "    .dataframe tbody tr th {\n",
       "        vertical-align: top;\n",
       "    }\n",
       "\n",
       "    .dataframe thead th {\n",
       "        text-align: right;\n",
       "    }\n",
       "</style>\n",
       "<table border=\"1\" class=\"dataframe\">\n",
       "  <thead>\n",
       "    <tr style=\"text-align: right;\">\n",
       "      <th></th>\n",
       "      <th>Car_Age</th>\n",
       "      <th>Mileage_km</th>\n",
       "      <th>Engine_Size_Litre</th>\n",
       "      <th>Horse_Power</th>\n",
       "      <th>Previous_Owners</th>\n",
       "      <th>Accidents</th>\n",
       "      <th>Resale_Price</th>\n",
       "    </tr>\n",
       "  </thead>\n",
       "  <tbody>\n",
       "    <tr>\n",
       "      <th>0</th>\n",
       "      <td>7</td>\n",
       "      <td>171981.0</td>\n",
       "      <td>3.2</td>\n",
       "      <td>234</td>\n",
       "      <td>4</td>\n",
       "      <td>0</td>\n",
       "      <td>339043.5</td>\n",
       "    </tr>\n",
       "    <tr>\n",
       "      <th>1</th>\n",
       "      <td>15</td>\n",
       "      <td>225411.0</td>\n",
       "      <td>2.2</td>\n",
       "      <td>143</td>\n",
       "      <td>1</td>\n",
       "      <td>4</td>\n",
       "      <td>101762.5</td>\n",
       "    </tr>\n",
       "    <tr>\n",
       "      <th>2</th>\n",
       "      <td>11</td>\n",
       "      <td>24870.0</td>\n",
       "      <td>3.8</td>\n",
       "      <td>81</td>\n",
       "      <td>1</td>\n",
       "      <td>2</td>\n",
       "      <td>355626.0</td>\n",
       "    </tr>\n",
       "    <tr>\n",
       "      <th>3</th>\n",
       "      <td>8</td>\n",
       "      <td>170650.0</td>\n",
       "      <td>4.0</td>\n",
       "      <td>86</td>\n",
       "      <td>4</td>\n",
       "      <td>1</td>\n",
       "      <td>317127.0</td>\n",
       "    </tr>\n",
       "    <tr>\n",
       "      <th>4</th>\n",
       "      <td>7</td>\n",
       "      <td>208196.0</td>\n",
       "      <td>1.6</td>\n",
       "      <td>254</td>\n",
       "      <td>3</td>\n",
       "      <td>0</td>\n",
       "      <td>297412.0</td>\n",
       "    </tr>\n",
       "  </tbody>\n",
       "</table>\n",
       "</div>"
      ],
      "text/plain": [
       "   Car_Age  Mileage_km  Engine_Size_Litre  Horse_Power  Previous_Owners  \\\n",
       "0        7    171981.0                3.2          234                4   \n",
       "1       15    225411.0                2.2          143                1   \n",
       "2       11     24870.0                3.8           81                1   \n",
       "3        8    170650.0                4.0           86                4   \n",
       "4        7    208196.0                1.6          254                3   \n",
       "\n",
       "   Accidents  Resale_Price  \n",
       "0          0      339043.5  \n",
       "1          4      101762.5  \n",
       "2          2      355626.0  \n",
       "3          1      317127.0  \n",
       "4          0      297412.0  "
      ]
     },
     "execution_count": 7,
     "metadata": {},
     "output_type": "execute_result"
    }
   ],
   "source": [
    "car.head()      #   # exploring first five variables to check renaming of features           "
   ]
  },
  {
   "cell_type": "code",
   "execution_count": 8,
   "id": "9d2032eb-2074-41bf-9e7e-3afc61f45be2",
   "metadata": {},
   "outputs": [
    {
     "name": "stdout",
     "output_type": "stream",
     "text": [
      "<class 'pandas.core.frame.DataFrame'>\n",
      "RangeIndex: 500 entries, 0 to 499\n",
      "Data columns (total 7 columns):\n",
      " #   Column             Non-Null Count  Dtype  \n",
      "---  ------             --------------  -----  \n",
      " 0   Car_Age            500 non-null    int64  \n",
      " 1   Mileage_km         475 non-null    float64\n",
      " 2   Engine_Size_Litre  500 non-null    float64\n",
      " 3   Horse_Power        500 non-null    int64  \n",
      " 4   Previous_Owners    500 non-null    int64  \n",
      " 5   Accidents          500 non-null    int64  \n",
      " 6   Resale_Price       500 non-null    float64\n",
      "dtypes: float64(3), int64(4)\n",
      "memory usage: 27.5 KB\n"
     ]
    }
   ],
   "source": [
    "car.info()       # Checking the data types of each feature      "
   ]
  },
  {
   "cell_type": "code",
   "execution_count": 9,
   "id": "f5e53b09-16d9-4f86-be5f-31cee19c6da2",
   "metadata": {},
   "outputs": [
    {
     "data": {
      "text/html": [
       "<div>\n",
       "<style scoped>\n",
       "    .dataframe tbody tr th:only-of-type {\n",
       "        vertical-align: middle;\n",
       "    }\n",
       "\n",
       "    .dataframe tbody tr th {\n",
       "        vertical-align: top;\n",
       "    }\n",
       "\n",
       "    .dataframe thead th {\n",
       "        text-align: right;\n",
       "    }\n",
       "</style>\n",
       "<table border=\"1\" class=\"dataframe\">\n",
       "  <thead>\n",
       "    <tr style=\"text-align: right;\">\n",
       "      <th></th>\n",
       "      <th>Car_Age</th>\n",
       "      <th>Mileage_km</th>\n",
       "      <th>Engine_Size_Litre</th>\n",
       "      <th>Horse_Power</th>\n",
       "      <th>Previous_Owners</th>\n",
       "      <th>Accidents</th>\n",
       "      <th>Resale_Price</th>\n",
       "    </tr>\n",
       "  </thead>\n",
       "  <tbody>\n",
       "    <tr>\n",
       "      <th>count</th>\n",
       "      <td>500.000000</td>\n",
       "      <td>475.000000</td>\n",
       "      <td>500.000000</td>\n",
       "      <td>500.000000</td>\n",
       "      <td>500.000000</td>\n",
       "      <td>500.000000</td>\n",
       "      <td>500.000000</td>\n",
       "    </tr>\n",
       "    <tr>\n",
       "      <th>mean</th>\n",
       "      <td>9.616000</td>\n",
       "      <td>121629.170526</td>\n",
       "      <td>2.545200</td>\n",
       "      <td>230.224000</td>\n",
       "      <td>2.514000</td>\n",
       "      <td>2.046000</td>\n",
       "      <td>288077.290000</td>\n",
       "    </tr>\n",
       "    <tr>\n",
       "      <th>std</th>\n",
       "      <td>5.662922</td>\n",
       "      <td>70523.879172</td>\n",
       "      <td>0.870213</td>\n",
       "      <td>100.279718</td>\n",
       "      <td>1.150849</td>\n",
       "      <td>1.405644</td>\n",
       "      <td>122131.666926</td>\n",
       "    </tr>\n",
       "    <tr>\n",
       "      <th>min</th>\n",
       "      <td>1.000000</td>\n",
       "      <td>5404.000000</td>\n",
       "      <td>1.000000</td>\n",
       "      <td>60.000000</td>\n",
       "      <td>1.000000</td>\n",
       "      <td>0.000000</td>\n",
       "      <td>50000.000000</td>\n",
       "    </tr>\n",
       "    <tr>\n",
       "      <th>25%</th>\n",
       "      <td>4.750000</td>\n",
       "      <td>59527.500000</td>\n",
       "      <td>1.800000</td>\n",
       "      <td>144.750000</td>\n",
       "      <td>1.000000</td>\n",
       "      <td>1.000000</td>\n",
       "      <td>198527.750000</td>\n",
       "    </tr>\n",
       "    <tr>\n",
       "      <th>50%</th>\n",
       "      <td>9.000000</td>\n",
       "      <td>120359.000000</td>\n",
       "      <td>2.600000</td>\n",
       "      <td>223.000000</td>\n",
       "      <td>2.000000</td>\n",
       "      <td>2.000000</td>\n",
       "      <td>288446.250000</td>\n",
       "    </tr>\n",
       "    <tr>\n",
       "      <th>75%</th>\n",
       "      <td>15.000000</td>\n",
       "      <td>176449.000000</td>\n",
       "      <td>3.300000</td>\n",
       "      <td>324.250000</td>\n",
       "      <td>4.000000</td>\n",
       "      <td>3.000000</td>\n",
       "      <td>383472.375000</td>\n",
       "    </tr>\n",
       "    <tr>\n",
       "      <th>max</th>\n",
       "      <td>19.000000</td>\n",
       "      <td>249820.000000</td>\n",
       "      <td>4.000000</td>\n",
       "      <td>399.000000</td>\n",
       "      <td>4.000000</td>\n",
       "      <td>4.000000</td>\n",
       "      <td>539466.000000</td>\n",
       "    </tr>\n",
       "  </tbody>\n",
       "</table>\n",
       "</div>"
      ],
      "text/plain": [
       "          Car_Age     Mileage_km  Engine_Size_Litre  Horse_Power  \\\n",
       "count  500.000000     475.000000         500.000000   500.000000   \n",
       "mean     9.616000  121629.170526           2.545200   230.224000   \n",
       "std      5.662922   70523.879172           0.870213   100.279718   \n",
       "min      1.000000    5404.000000           1.000000    60.000000   \n",
       "25%      4.750000   59527.500000           1.800000   144.750000   \n",
       "50%      9.000000  120359.000000           2.600000   223.000000   \n",
       "75%     15.000000  176449.000000           3.300000   324.250000   \n",
       "max     19.000000  249820.000000           4.000000   399.000000   \n",
       "\n",
       "       Previous_Owners   Accidents   Resale_Price  \n",
       "count       500.000000  500.000000     500.000000  \n",
       "mean          2.514000    2.046000  288077.290000  \n",
       "std           1.150849    1.405644  122131.666926  \n",
       "min           1.000000    0.000000   50000.000000  \n",
       "25%           1.000000    1.000000  198527.750000  \n",
       "50%           2.000000    2.000000  288446.250000  \n",
       "75%           4.000000    3.000000  383472.375000  \n",
       "max           4.000000    4.000000  539466.000000  "
      ]
     },
     "execution_count": 9,
     "metadata": {},
     "output_type": "execute_result"
    }
   ],
   "source": [
    "car.describe()          # Summary of Statistics"
   ]
  },
  {
   "cell_type": "code",
   "execution_count": 10,
   "id": "ff8dcee1-b688-40d8-9550-1f0b3dc93cdd",
   "metadata": {},
   "outputs": [
    {
     "data": {
      "text/plain": [
       "Car_Age               0\n",
       "Mileage_km           25\n",
       "Engine_Size_Litre     0\n",
       "Horse_Power           0\n",
       "Previous_Owners       0\n",
       "Accidents             0\n",
       "Resale_Price          0\n",
       "dtype: int64"
      ]
     },
     "execution_count": 10,
     "metadata": {},
     "output_type": "execute_result"
    }
   ],
   "source": [
    "car.isnull().sum()     #checking missing values "
   ]
  },
  {
   "cell_type": "markdown",
   "id": "95e35a2c-0374-4ed6-8263-00bfd4ff8396",
   "metadata": {},
   "source": [
    "There are Missing Values in Mileage_km"
   ]
  },
  {
   "cell_type": "code",
   "execution_count": 11,
   "id": "2e44d8eb-e8b8-41c2-9ac9-d889bc15a766",
   "metadata": {},
   "outputs": [],
   "source": [
    "#filling the missing values by mean\n",
    "car[\"Mileage_km\"] = car[\"Mileage_km\"].fillna(car[\"Mileage_km\"].mean())"
   ]
  },
  {
   "cell_type": "code",
   "execution_count": 12,
   "id": "717d7751-89da-44d3-8db8-44b311816ce5",
   "metadata": {},
   "outputs": [
    {
     "data": {
      "text/html": [
       "<div>\n",
       "<style scoped>\n",
       "    .dataframe tbody tr th:only-of-type {\n",
       "        vertical-align: middle;\n",
       "    }\n",
       "\n",
       "    .dataframe tbody tr th {\n",
       "        vertical-align: top;\n",
       "    }\n",
       "\n",
       "    .dataframe thead th {\n",
       "        text-align: right;\n",
       "    }\n",
       "</style>\n",
       "<table border=\"1\" class=\"dataframe\">\n",
       "  <thead>\n",
       "    <tr style=\"text-align: right;\">\n",
       "      <th></th>\n",
       "      <th>Car_Age</th>\n",
       "      <th>Mileage_km</th>\n",
       "      <th>Engine_Size_Litre</th>\n",
       "      <th>Horse_Power</th>\n",
       "      <th>Previous_Owners</th>\n",
       "      <th>Accidents</th>\n",
       "      <th>Resale_Price</th>\n",
       "    </tr>\n",
       "  </thead>\n",
       "  <tbody>\n",
       "    <tr>\n",
       "      <th>0</th>\n",
       "      <td>7</td>\n",
       "      <td>171981.0</td>\n",
       "      <td>3.2</td>\n",
       "      <td>234</td>\n",
       "      <td>4</td>\n",
       "      <td>0</td>\n",
       "      <td>339043.5</td>\n",
       "    </tr>\n",
       "    <tr>\n",
       "      <th>1</th>\n",
       "      <td>15</td>\n",
       "      <td>225411.0</td>\n",
       "      <td>2.2</td>\n",
       "      <td>143</td>\n",
       "      <td>1</td>\n",
       "      <td>4</td>\n",
       "      <td>101762.5</td>\n",
       "    </tr>\n",
       "    <tr>\n",
       "      <th>2</th>\n",
       "      <td>11</td>\n",
       "      <td>24870.0</td>\n",
       "      <td>3.8</td>\n",
       "      <td>81</td>\n",
       "      <td>1</td>\n",
       "      <td>2</td>\n",
       "      <td>355626.0</td>\n",
       "    </tr>\n",
       "    <tr>\n",
       "      <th>3</th>\n",
       "      <td>8</td>\n",
       "      <td>170650.0</td>\n",
       "      <td>4.0</td>\n",
       "      <td>86</td>\n",
       "      <td>4</td>\n",
       "      <td>1</td>\n",
       "      <td>317127.0</td>\n",
       "    </tr>\n",
       "    <tr>\n",
       "      <th>4</th>\n",
       "      <td>7</td>\n",
       "      <td>208196.0</td>\n",
       "      <td>1.6</td>\n",
       "      <td>254</td>\n",
       "      <td>3</td>\n",
       "      <td>0</td>\n",
       "      <td>297412.0</td>\n",
       "    </tr>\n",
       "  </tbody>\n",
       "</table>\n",
       "</div>"
      ],
      "text/plain": [
       "   Car_Age  Mileage_km  Engine_Size_Litre  Horse_Power  Previous_Owners  \\\n",
       "0        7    171981.0                3.2          234                4   \n",
       "1       15    225411.0                2.2          143                1   \n",
       "2       11     24870.0                3.8           81                1   \n",
       "3        8    170650.0                4.0           86                4   \n",
       "4        7    208196.0                1.6          254                3   \n",
       "\n",
       "   Accidents  Resale_Price  \n",
       "0          0      339043.5  \n",
       "1          4      101762.5  \n",
       "2          2      355626.0  \n",
       "3          1      317127.0  \n",
       "4          0      297412.0  "
      ]
     },
     "execution_count": 12,
     "metadata": {},
     "output_type": "execute_result"
    }
   ],
   "source": [
    "car.head()"
   ]
  },
  {
   "cell_type": "markdown",
   "id": "a7bd28d4-111e-4105-8a44-796f2271c385",
   "metadata": {},
   "source": [
    "## Exploratory Data Analysis"
   ]
  },
  {
   "cell_type": "markdown",
   "id": "c73c023a-c15f-4f29-936d-0f96291d7485",
   "metadata": {},
   "source": [
    "### Univariate Analysis of each feature"
   ]
  },
  {
   "cell_type": "code",
   "execution_count": 13,
   "id": "fbc2d7ff-716b-4e87-9db4-7b332f3bf580",
   "metadata": {},
   "outputs": [
    {
     "data": {
      "image/png": "[encoded data removed]",
      "text/plain": [
       "<Figure size 500x300 with 1 Axes>"
      ]
     },
     "metadata": {},
     "output_type": "display_data"
    }
   ],
   "source": [
    "plt.figure(figsize=(5,3))\n",
    "sns.set_style('whitegrid')\n",
    "sns.countplot(x=\"Previous_Owners\",data=car)\n",
    "plt.title(\"Number of Cars by Previous Owners\")\n",
    "plt.show()"
   ]
  },
  {
   "cell_type": "markdown",
   "id": "7c348fd4-b06f-4490-b395-c762cc999e72",
   "metadata": {},
   "source": [
    "There is a slight increase in cars with more previous owners, especially 4 owners."
   ]
  },
  {
   "cell_type": "code",
   "execution_count": 14,
   "id": "d4e54882-8a76-4402-8d69-b52bb396ef3f",
   "metadata": {},
   "outputs": [
    {
     "data": {
      "text/plain": [
       "<Axes: xlabel='Car_Age'>"
      ]
     },
     "execution_count": 14,
     "metadata": {},
     "output_type": "execute_result"
    },
    {
     "data": {
      "image/png": "[encoded data removed]",
      "text/plain": [
       "<Figure size 500x300 with 1 Axes>"
      ]
     },
     "metadata": {},
     "output_type": "display_data"
    }
   ],
   "source": [
    "plt.figure(figsize=(5,3))\n",
    "sns.set_style('whitegrid')\n",
    "sns.boxplot(x=\"Car_Age\",data=car)"
   ]
  },
  {
   "cell_type": "markdown",
   "id": "fb71ca8e-dba0-4226-a7b6-8717ba97e8d1",
   "metadata": {},
   "source": [
    "There is no outlier in this column"
   ]
  },
  {
   "cell_type": "code",
   "execution_count": 15,
   "id": "fb297966-f393-43be-9d07-ebb8ff249203",
   "metadata": {},
   "outputs": [
    {
     "data": {
      "text/plain": [
       "<Axes: xlabel='Accidents', ylabel='count'>"
      ]
     },
     "execution_count": 15,
     "metadata": {},
     "output_type": "execute_result"
    },
    {
     "data": {
      "image/png": "[encoded data removed]",
      "text/plain": [
       "<Figure size 500x300 with 1 Axes>"
      ]
     },
     "metadata": {},
     "output_type": "display_data"
    }
   ],
   "source": [
    "plt.figure(figsize=(5,3))\n",
    "sns.set_style('whitegrid')\n",
    "sns.countplot(x=\"Accidents\",data=car, order = car['Accidents'].value_counts(ascending=False).index)"
   ]
  },
  {
   "cell_type": "markdown",
   "id": "1fd89b00-c8ef-4d38-8874-aed427f167df",
   "metadata": {},
   "source": [
    "Most of the car in the dataset have been involved in 3 accidents"
   ]
  },
  {
   "cell_type": "code",
   "execution_count": 16,
   "id": "6e5ab0eb-418c-4b1a-88b0-8f755b9132de",
   "metadata": {},
   "outputs": [
    {
     "data": {
      "image/png": "[encoded data removed]",
      "text/plain": [
       "<Figure size 640x480 with 1 Axes>"
      ]
     },
     "metadata": {},
     "output_type": "display_data"
    }
   ],
   "source": [
    "import warnings\n",
    "warnings.filterwarnings(\"ignore\")\n",
    "\n",
    "sns.distplot(car['Resale_Price'])\n",
    "plt.axvline(car['Resale_Price'].mean(), color = 'red', label = 'Mean')\n",
    "plt.axvline(car['Resale_Price'].median(), color = 'blue', ls = '--', label = 'Median')\n",
    "plt.show()"
   ]
  },
  {
   "cell_type": "markdown",
   "id": "2053023b-e724-4abc-ba1f-94a54ced2bf7",
   "metadata": {},
   "source": [
    "The resale price distribution is approximately symmetric ,with the mean and median being nearly equal"
   ]
  },
  {
   "cell_type": "markdown",
   "id": "db2e009b-642d-4a64-9971-7dd9ff5637d3",
   "metadata": {},
   "source": [
    "## Bivariate and Multivariate analysis"
   ]
  },
  {
   "cell_type": "code",
   "execution_count": 17,
   "id": "49f8e3ae-22cc-4962-8732-ca3193621e9b",
   "metadata": {},
   "outputs": [
    {
     "data": {
      "text/html": [
       "<div>\n",
       "<style scoped>\n",
       "    .dataframe tbody tr th:only-of-type {\n",
       "        vertical-align: middle;\n",
       "    }\n",
       "\n",
       "    .dataframe tbody tr th {\n",
       "        vertical-align: top;\n",
       "    }\n",
       "\n",
       "    .dataframe thead th {\n",
       "        text-align: right;\n",
       "    }\n",
       "</style>\n",
       "<table border=\"1\" class=\"dataframe\">\n",
       "  <thead>\n",
       "    <tr style=\"text-align: right;\">\n",
       "      <th></th>\n",
       "      <th>Car_Age</th>\n",
       "      <th>Mileage_km</th>\n",
       "      <th>Engine_Size_Litre</th>\n",
       "      <th>Horse_Power</th>\n",
       "      <th>Previous_Owners</th>\n",
       "      <th>Accidents</th>\n",
       "      <th>Resale_Price</th>\n",
       "    </tr>\n",
       "  </thead>\n",
       "  <tbody>\n",
       "    <tr>\n",
       "      <th>Car_Age</th>\n",
       "      <td>1.000000</td>\n",
       "      <td>-0.016459</td>\n",
       "      <td>0.061763</td>\n",
       "      <td>0.047182</td>\n",
       "      <td>0.012204</td>\n",
       "      <td>-0.036044</td>\n",
       "      <td>-0.910035</td>\n",
       "    </tr>\n",
       "    <tr>\n",
       "      <th>Mileage_km</th>\n",
       "      <td>-0.016459</td>\n",
       "      <td>1.000000</td>\n",
       "      <td>-0.013436</td>\n",
       "      <td>0.024966</td>\n",
       "      <td>-0.026558</td>\n",
       "      <td>0.026591</td>\n",
       "      <td>-0.264324</td>\n",
       "    </tr>\n",
       "    <tr>\n",
       "      <th>Engine_Size_Litre</th>\n",
       "      <td>0.061763</td>\n",
       "      <td>-0.013436</td>\n",
       "      <td>1.000000</td>\n",
       "      <td>0.083344</td>\n",
       "      <td>0.038387</td>\n",
       "      <td>0.059406</td>\n",
       "      <td>0.153877</td>\n",
       "    </tr>\n",
       "    <tr>\n",
       "      <th>Horse_Power</th>\n",
       "      <td>0.047182</td>\n",
       "      <td>0.024966</td>\n",
       "      <td>0.083344</td>\n",
       "      <td>1.000000</td>\n",
       "      <td>-0.063565</td>\n",
       "      <td>0.023072</td>\n",
       "      <td>0.049609</td>\n",
       "    </tr>\n",
       "    <tr>\n",
       "      <th>Previous_Owners</th>\n",
       "      <td>0.012204</td>\n",
       "      <td>-0.026558</td>\n",
       "      <td>0.038387</td>\n",
       "      <td>-0.063565</td>\n",
       "      <td>1.000000</td>\n",
       "      <td>-0.020839</td>\n",
       "      <td>-0.137490</td>\n",
       "    </tr>\n",
       "    <tr>\n",
       "      <th>Accidents</th>\n",
       "      <td>-0.036044</td>\n",
       "      <td>0.026591</td>\n",
       "      <td>0.059406</td>\n",
       "      <td>0.023072</td>\n",
       "      <td>-0.020839</td>\n",
       "      <td>1.000000</td>\n",
       "      <td>-0.070360</td>\n",
       "    </tr>\n",
       "    <tr>\n",
       "      <th>Resale_Price</th>\n",
       "      <td>-0.910035</td>\n",
       "      <td>-0.264324</td>\n",
       "      <td>0.153877</td>\n",
       "      <td>0.049609</td>\n",
       "      <td>-0.137490</td>\n",
       "      <td>-0.070360</td>\n",
       "      <td>1.000000</td>\n",
       "    </tr>\n",
       "  </tbody>\n",
       "</table>\n",
       "</div>"
      ],
      "text/plain": [
       "                    Car_Age  Mileage_km  Engine_Size_Litre  Horse_Power  \\\n",
       "Car_Age            1.000000   -0.016459           0.061763     0.047182   \n",
       "Mileage_km        -0.016459    1.000000          -0.013436     0.024966   \n",
       "Engine_Size_Litre  0.061763   -0.013436           1.000000     0.083344   \n",
       "Horse_Power        0.047182    0.024966           0.083344     1.000000   \n",
       "Previous_Owners    0.012204   -0.026558           0.038387    -0.063565   \n",
       "Accidents         -0.036044    0.026591           0.059406     0.023072   \n",
       "Resale_Price      -0.910035   -0.264324           0.153877     0.049609   \n",
       "\n",
       "                   Previous_Owners  Accidents  Resale_Price  \n",
       "Car_Age                   0.012204  -0.036044     -0.910035  \n",
       "Mileage_km               -0.026558   0.026591     -0.264324  \n",
       "Engine_Size_Litre         0.038387   0.059406      0.153877  \n",
       "Horse_Power              -0.063565   0.023072      0.049609  \n",
       "Previous_Owners           1.000000  -0.020839     -0.137490  \n",
       "Accidents                -0.020839   1.000000     -0.070360  \n",
       "Resale_Price             -0.137490  -0.070360      1.000000  "
      ]
     },
     "execution_count": 17,
     "metadata": {},
     "output_type": "execute_result"
    }
   ],
   "source": [
    "# Calculating the correlation between columns.\n",
    "car.corr()"
   ]
  },
  {
   "cell_type": "code",
   "execution_count": 18,
   "id": "2a970718-27a2-45e3-9ccd-5f075d915c78",
   "metadata": {},
   "outputs": [
    {
     "data": {
      "text/plain": [
       "<function matplotlib.pyplot.plot(*args: 'float | ArrayLike | str', scalex: 'bool' = True, scaley: 'bool' = True, data=None, **kwargs) -> 'list[Line2D]'>"
      ]
     },
     "execution_count": 18,
     "metadata": {},
     "output_type": "execute_result"
    },
    {
     "data": {
      "image/png": "[encoded data removed]",
      "text/plain": [
       "<Figure size 900x500 with 2 Axes>"
      ]
     },
     "metadata": {},
     "output_type": "display_data"
    }
   ],
   "source": [
    "# Calculating the correlation between columns with the help of heatmap for better understanding.\n",
    "plt.figure(figsize=(9,5))\n",
    "sns.heatmap(car.corr(),annot=True)\n",
    "plt.title(\"Correlation Heatmap\")\n",
    "plt.xticks(rotation=50)\n",
    "plt.plot"
   ]
  },
  {
   "cell_type": "markdown",
   "id": "a0a671bf-c9dc-43e7-8e0b-21b937ee3edc",
   "metadata": {},
   "source": [
    "• Strong negative correlation: Car_Age vs Resale_Price<br>\n",
    "• Weak positive correlations: Engine_Size_Litre vs Resale_Price<br>\n",
    "• Most other features (Accidents, Horse_Power) have very weak correlations with resale price."
   ]
  },
  {
   "cell_type": "markdown",
   "id": "558b55f3-7e79-4b9a-b9de-4ba4aa8b9031",
   "metadata": {},
   "source": [
    "## Feature Scaling\n",
    "### Splitting the dataset into the Training set and Test set"
   ]
  },
  {
   "cell_type": "code",
   "execution_count": 19,
   "id": "51d691d3-545e-4796-9155-47f3d5b04c66",
   "metadata": {},
   "outputs": [],
   "source": [
    "X=car[['Car_Age','Mileage_km','Engine_Size_Litre','Horse_Power','Previous_Owners','Accidents']]\n",
    "Y=car[['Resale_Price']]"
   ]
  },
  {
   "cell_type": "code",
   "execution_count": 20,
   "id": "400bf409-f7eb-4e7e-965f-5e449ed9d1f3",
   "metadata": {},
   "outputs": [],
   "source": [
    "from sklearn.model_selection import train_test_split\n",
    "X_train,X_test,Y_train,Y_test= train_test_split(X,Y,test_size=0.25,random_state=1)   \n",
    "# test_size 0.25 means 25 percent of data will be in test\n",
    "#random_state ensures that the random processes produce the same results every time you run the code."
   ]
  },
  {
   "cell_type": "code",
   "execution_count": 21,
   "id": "a0ba1ae3-03e1-468b-ba86-cf11804809f0",
   "metadata": {},
   "outputs": [
    {
     "name": "stdout",
     "output_type": "stream",
     "text": [
      "train data shape of x: (375, 6)\n",
      "test data shape of x: (125, 6)\n",
      "train data shape of y: (375, 1)\n",
      "test data shape of y: (125, 1)\n"
     ]
    }
   ],
   "source": [
    "# Checking the shape of Train and Test data\n",
    "print(\"train data shape of x:\",X_train.shape)\n",
    "print(\"test data shape of x:\",X_test.shape)\n",
    "print(\"train data shape of y:\",Y_train.shape)\n",
    "print(\"test data shape of y:\",Y_test.shape)"
   ]
  },
  {
   "cell_type": "code",
   "execution_count": 22,
   "id": "775f8d50-c3bd-4789-b836-4354358b2d31",
   "metadata": {},
   "outputs": [],
   "source": [
    "#It ensures that all features contribute equally to the model\n",
    "from sklearn.preprocessing import StandardScaler\n",
    "ss= StandardScaler()\n",
    "X_train_scaled = ss.fit_transform(X_train)          # fit will calculate mean and sd\n",
    "X_test_scaled = ss.transform(X_test)                # Here we will use only transform method as test data set is like new dataset"
   ]
  },
  {
   "cell_type": "code",
   "execution_count": 23,
   "id": "d51b0dcd-66f1-4b3c-a9fe-dc102ef3d4c7",
   "metadata": {},
   "outputs": [
    {
     "data": {
      "text/html": [
       "<style>#sk-container-id-1 {\n",
       "  /* Definition of color scheme common for light and dark mode */\n",
       "  --sklearn-color-text: #000;\n",
       "  --sklearn-color-text-muted: #666;\n",
       "  --sklearn-color-line: gray;\n",
       "  /* Definition of color scheme for unfitted estimators */\n",
       "  --sklearn-color-unfitted-level-0: #fff5e6;\n",
       "  --sklearn-color-unfitted-level-1: #f6e4d2;\n",
       "  --sklearn-color-unfitted-level-2: #ffe0b3;\n",
       "  --sklearn-color-unfitted-level-3: chocolate;\n",
       "  /* Definition of color scheme for fitted estimators */\n",
       "  --sklearn-color-fitted-level-0: #f0f8ff;\n",
       "  --sklearn-color-fitted-level-1: #d4ebff;\n",
       "  --sklearn-color-fitted-level-2: #b3dbfd;\n",
       "  --sklearn-color-fitted-level-3: cornflowerblue;\n",
       "\n",
       "  /* Specific color for light theme */\n",
       "  --sklearn-color-text-on-default-background: var(--sg-text-color, var(--theme-code-foreground, var(--jp-content-font-color1, black)));\n",
       "  --sklearn-color-background: var(--sg-background-color, var(--theme-background, var(--jp-layout-color0, white)));\n",
       "  --sklearn-color-border-box: var(--sg-text-color, var(--theme-code-foreground, var(--jp-content-font-color1, black)));\n",
       "  --sklearn-color-icon: #696969;\n",
       "\n",
       "  @media (prefers-color-scheme: dark) {\n",
       "    /* Redefinition of color scheme for dark theme */\n",
       "    --sklearn-color-text-on-default-background: var(--sg-text-color, var(--theme-code-foreground, var(--jp-content-font-color1, white)));\n",
       "    --sklearn-color-background: var(--sg-background-color, var(--theme-background, var(--jp-layout-color0, #111)));\n",
       "    --sklearn-color-border-box: var(--sg-text-color, var(--theme-code-foreground, var(--jp-content-font-color1, white)));\n",
       "    --sklearn-color-icon: #878787;\n",
       "  }\n",
       "}\n",
       "\n",
       "#sk-container-id-1 {\n",
       "  color: var(--sklearn-color-text);\n",
       "}\n",
       "\n",
       "#sk-container-id-1 pre {\n",
       "  padding: 0;\n",
       "}\n",
       "\n",
       "#sk-container-id-1 input.sk-hidden--visually {\n",
       "  border: 0;\n",
       "  clip: rect(1px 1px 1px 1px);\n",
       "  clip: rect(1px, 1px, 1px, 1px);\n",
       "  height: 1px;\n",
       "  margin: -1px;\n",
       "  overflow: hidden;\n",
       "  padding: 0;\n",
       "  position: absolute;\n",
       "  width: 1px;\n",
       "}\n",
       "\n",
       "#sk-container-id-1 div.sk-dashed-wrapped {\n",
       "  border: 1px dashed var(--sklearn-color-line);\n",
       "  margin: 0 0.4em 0.5em 0.4em;\n",
       "  box-sizing: border-box;\n",
       "  padding-bottom: 0.4em;\n",
       "  background-color: var(--sklearn-color-background);\n",
       "}\n",
       "\n",
       "#sk-container-id-1 div.sk-container {\n",
       "  /* jupyter's `normalize.less` sets `[hidden] { display: none; }`\n",
       "     but bootstrap.min.css set `[hidden] { display: none !important; }`\n",
       "     so we also need the `!important` here to be able to override the\n",
       "     default hidden behavior on the sphinx rendered scikit-learn.org.\n",
       "     See: https://github.com/scikit-learn/scikit-learn/issues/21755 */\n",
       "  display: inline-block !important;\n",
       "  position: relative;\n",
       "}\n",
       "\n",
       "#sk-container-id-1 div.sk-text-repr-fallback {\n",
       "  display: none;\n",
       "}\n",
       "\n",
       "div.sk-parallel-item,\n",
       "div.sk-serial,\n",
       "div.sk-item {\n",
       "  /* draw centered vertical line to link estimators */\n",
       "  background-image: linear-gradient(var(--sklearn-color-text-on-default-background), var(--sklearn-color-text-on-default-background));\n",
       "  background-size: 2px 100%;\n",
       "  background-repeat: no-repeat;\n",
       "  background-position: center center;\n",
       "}\n",
       "\n",
       "/* Parallel-specific style estimator block */\n",
       "\n",
       "#sk-container-id-1 div.sk-parallel-item::after {\n",
       "  content: \"\";\n",
       "  width: 100%;\n",
       "  border-bottom: 2px solid var(--sklearn-color-text-on-default-background);\n",
       "  flex-grow: 1;\n",
       "}\n",
       "\n",
       "#sk-container-id-1 div.sk-parallel {\n",
       "  display: flex;\n",
       "  align-items: stretch;\n",
       "  justify-content: center;\n",
       "  background-color: var(--sklearn-color-background);\n",
       "  position: relative;\n",
       "}\n",
       "\n",
       "#sk-container-id-1 div.sk-parallel-item {\n",
       "  display: flex;\n",
       "  flex-direction: column;\n",
       "}\n",
       "\n",
       "#sk-container-id-1 div.sk-parallel-item:first-child::after {\n",
       "  align-self: flex-end;\n",
       "  width: 50%;\n",
       "}\n",
       "\n",
       "#sk-container-id-1 div.sk-parallel-item:last-child::after {\n",
       "  align-self: flex-start;\n",
       "  width: 50%;\n",
       "}\n",
       "\n",
       "#sk-container-id-1 div.sk-parallel-item:only-child::after {\n",
       "  width: 0;\n",
       "}\n",
       "\n",
       "/* Serial-specific style estimator block */\n",
       "\n",
       "#sk-container-id-1 div.sk-serial {\n",
       "  display: flex;\n",
       "  flex-direction: column;\n",
       "  align-items: center;\n",
       "  background-color: var(--sklearn-color-background);\n",
       "  padding-right: 1em;\n",
       "  padding-left: 1em;\n",
       "}\n",
       "\n",
       "\n",
       "/* Toggleable style: style used for estimator/Pipeline/ColumnTransformer box that is\n",
       "clickable and can be expanded/collapsed.\n",
       "- Pipeline and ColumnTransformer use this feature and define the default style\n",
       "- Estimators will overwrite some part of the style using the `sk-estimator` class\n",
       "*/\n",
       "\n",
       "/* Pipeline and ColumnTransformer style (default) */\n",
       "\n",
       "#sk-container-id-1 div.sk-toggleable {\n",
       "  /* Default theme specific background. It is overwritten whether we have a\n",
       "  specific estimator or a Pipeline/ColumnTransformer */\n",
       "  background-color: var(--sklearn-color-background);\n",
       "}\n",
       "\n",
       "/* Toggleable label */\n",
       "#sk-container-id-1 label.sk-toggleable__label {\n",
       "  cursor: pointer;\n",
       "  display: flex;\n",
       "  width: 100%;\n",
       "  margin-bottom: 0;\n",
       "  padding: 0.5em;\n",
       "  box-sizing: border-box;\n",
       "  text-align: center;\n",
       "  align-items: start;\n",
       "  justify-content: space-between;\n",
       "  gap: 0.5em;\n",
       "}\n",
       "\n",
       "#sk-container-id-1 label.sk-toggleable__label .caption {\n",
       "  font-size: 0.6rem;\n",
       "  font-weight: lighter;\n",
       "  color: var(--sklearn-color-text-muted);\n",
       "}\n",
       "\n",
       "#sk-container-id-1 label.sk-toggleable__label-arrow:before {\n",
       "  /* Arrow on the left of the label */\n",
       "  content: \"▸\";\n",
       "  float: left;\n",
       "  margin-right: 0.25em;\n",
       "  color: var(--sklearn-color-icon);\n",
       "}\n",
       "\n",
       "#sk-container-id-1 label.sk-toggleable__label-arrow:hover:before {\n",
       "  color: var(--sklearn-color-text);\n",
       "}\n",
       "\n",
       "/* Toggleable content - dropdown */\n",
       "\n",
       "#sk-container-id-1 div.sk-toggleable__content {\n",
       "  max-height: 0;\n",
       "  max-width: 0;\n",
       "  overflow: hidden;\n",
       "  text-align: left;\n",
       "  /* unfitted */\n",
       "  background-color: var(--sklearn-color-unfitted-level-0);\n",
       "}\n",
       "\n",
       "#sk-container-id-1 div.sk-toggleable__content.fitted {\n",
       "  /* fitted */\n",
       "  background-color: var(--sklearn-color-fitted-level-0);\n",
       "}\n",
       "\n",
       "#sk-container-id-1 div.sk-toggleable__content pre {\n",
       "  margin: 0.2em;\n",
       "  border-radius: 0.25em;\n",
       "  color: var(--sklearn-color-text);\n",
       "  /* unfitted */\n",
       "  background-color: var(--sklearn-color-unfitted-level-0);\n",
       "}\n",
       "\n",
       "#sk-container-id-1 div.sk-toggleable__content.fitted pre {\n",
       "  /* unfitted */\n",
       "  background-color: var(--sklearn-color-fitted-level-0);\n",
       "}\n",
       "\n",
       "#sk-container-id-1 input.sk-toggleable__control:checked~div.sk-toggleable__content {\n",
       "  /* Expand drop-down */\n",
       "  max-height: 200px;\n",
       "  max-width: 100%;\n",
       "  overflow: auto;\n",
       "}\n",
       "\n",
       "#sk-container-id-1 input.sk-toggleable__control:checked~label.sk-toggleable__label-arrow:before {\n",
       "  content: \"▾\";\n",
       "}\n",
       "\n",
       "/* Pipeline/ColumnTransformer-specific style */\n",
       "\n",
       "#sk-container-id-1 div.sk-label input.sk-toggleable__control:checked~label.sk-toggleable__label {\n",
       "  color: var(--sklearn-color-text);\n",
       "  background-color: var(--sklearn-color-unfitted-level-2);\n",
       "}\n",
       "\n",
       "#sk-container-id-1 div.sk-label.fitted input.sk-toggleable__control:checked~label.sk-toggleable__label {\n",
       "  background-color: var(--sklearn-color-fitted-level-2);\n",
       "}\n",
       "\n",
       "/* Estimator-specific style */\n",
       "\n",
       "/* Colorize estimator box */\n",
       "#sk-container-id-1 div.sk-estimator input.sk-toggleable__control:checked~label.sk-toggleable__label {\n",
       "  /* unfitted */\n",
       "  background-color: var(--sklearn-color-unfitted-level-2);\n",
       "}\n",
       "\n",
       "#sk-container-id-1 div.sk-estimator.fitted input.sk-toggleable__control:checked~label.sk-toggleable__label {\n",
       "  /* fitted */\n",
       "  background-color: var(--sklearn-color-fitted-level-2);\n",
       "}\n",
       "\n",
       "#sk-container-id-1 div.sk-label label.sk-toggleable__label,\n",
       "#sk-container-id-1 div.sk-label label {\n",
       "  /* The background is the default theme color */\n",
       "  color: var(--sklearn-color-text-on-default-background);\n",
       "}\n",
       "\n",
       "/* On hover, darken the color of the background */\n",
       "#sk-container-id-1 div.sk-label:hover label.sk-toggleable__label {\n",
       "  color: var(--sklearn-color-text);\n",
       "  background-color: var(--sklearn-color-unfitted-level-2);\n",
       "}\n",
       "\n",
       "/* Label box, darken color on hover, fitted */\n",
       "#sk-container-id-1 div.sk-label.fitted:hover label.sk-toggleable__label.fitted {\n",
       "  color: var(--sklearn-color-text);\n",
       "  background-color: var(--sklearn-color-fitted-level-2);\n",
       "}\n",
       "\n",
       "/* Estimator label */\n",
       "\n",
       "#sk-container-id-1 div.sk-label label {\n",
       "  font-family: monospace;\n",
       "  font-weight: bold;\n",
       "  display: inline-block;\n",
       "  line-height: 1.2em;\n",
       "}\n",
       "\n",
       "#sk-container-id-1 div.sk-label-container {\n",
       "  text-align: center;\n",
       "}\n",
       "\n",
       "/* Estimator-specific */\n",
       "#sk-container-id-1 div.sk-estimator {\n",
       "  font-family: monospace;\n",
       "  border: 1px dotted var(--sklearn-color-border-box);\n",
       "  border-radius: 0.25em;\n",
       "  box-sizing: border-box;\n",
       "  margin-bottom: 0.5em;\n",
       "  /* unfitted */\n",
       "  background-color: var(--sklearn-color-unfitted-level-0);\n",
       "}\n",
       "\n",
       "#sk-container-id-1 div.sk-estimator.fitted {\n",
       "  /* fitted */\n",
       "  background-color: var(--sklearn-color-fitted-level-0);\n",
       "}\n",
       "\n",
       "/* on hover */\n",
       "#sk-container-id-1 div.sk-estimator:hover {\n",
       "  /* unfitted */\n",
       "  background-color: var(--sklearn-color-unfitted-level-2);\n",
       "}\n",
       "\n",
       "#sk-container-id-1 div.sk-estimator.fitted:hover {\n",
       "  /* fitted */\n",
       "  background-color: var(--sklearn-color-fitted-level-2);\n",
       "}\n",
       "\n",
       "/* Specification for estimator info (e.g. \"i\" and \"?\") */\n",
       "\n",
       "/* Common style for \"i\" and \"?\" */\n",
       "\n",
       ".sk-estimator-doc-link,\n",
       "a:link.sk-estimator-doc-link,\n",
       "a:visited.sk-estimator-doc-link {\n",
       "  float: right;\n",
       "  font-size: smaller;\n",
       "  line-height: 1em;\n",
       "  font-family: monospace;\n",
       "  background-color: var(--sklearn-color-background);\n",
       "  border-radius: 1em;\n",
       "  height: 1em;\n",
       "  width: 1em;\n",
       "  text-decoration: none !important;\n",
       "  margin-left: 0.5em;\n",
       "  text-align: center;\n",
       "  /* unfitted */\n",
       "  border: var(--sklearn-color-unfitted-level-1) 1pt solid;\n",
       "  color: var(--sklearn-color-unfitted-level-1);\n",
       "}\n",
       "\n",
       ".sk-estimator-doc-link.fitted,\n",
       "a:link.sk-estimator-doc-link.fitted,\n",
       "a:visited.sk-estimator-doc-link.fitted {\n",
       "  /* fitted */\n",
       "  border: var(--sklearn-color-fitted-level-1) 1pt solid;\n",
       "  color: var(--sklearn-color-fitted-level-1);\n",
       "}\n",
       "\n",
       "/* On hover */\n",
       "div.sk-estimator:hover .sk-estimator-doc-link:hover,\n",
       ".sk-estimator-doc-link:hover,\n",
       "div.sk-label-container:hover .sk-estimator-doc-link:hover,\n",
       ".sk-estimator-doc-link:hover {\n",
       "  /* unfitted */\n",
       "  background-color: var(--sklearn-color-unfitted-level-3);\n",
       "  color: var(--sklearn-color-background);\n",
       "  text-decoration: none;\n",
       "}\n",
       "\n",
       "div.sk-estimator.fitted:hover .sk-estimator-doc-link.fitted:hover,\n",
       ".sk-estimator-doc-link.fitted:hover,\n",
       "div.sk-label-container:hover .sk-estimator-doc-link.fitted:hover,\n",
       ".sk-estimator-doc-link.fitted:hover {\n",
       "  /* fitted */\n",
       "  background-color: var(--sklearn-color-fitted-level-3);\n",
       "  color: var(--sklearn-color-background);\n",
       "  text-decoration: none;\n",
       "}\n",
       "\n",
       "/* Span, style for the box shown on hovering the info icon */\n",
       ".sk-estimator-doc-link span {\n",
       "  display: none;\n",
       "  z-index: 9999;\n",
       "  position: relative;\n",
       "  font-weight: normal;\n",
       "  right: .2ex;\n",
       "  padding: .5ex;\n",
       "  margin: .5ex;\n",
       "  width: min-content;\n",
       "  min-width: 20ex;\n",
       "  max-width: 50ex;\n",
       "  color: var(--sklearn-color-text);\n",
       "  box-shadow: 2pt 2pt 4pt #999;\n",
       "  /* unfitted */\n",
       "  background: var(--sklearn-color-unfitted-level-0);\n",
       "  border: .5pt solid var(--sklearn-color-unfitted-level-3);\n",
       "}\n",
       "\n",
       ".sk-estimator-doc-link.fitted span {\n",
       "  /* fitted */\n",
       "  background: var(--sklearn-color-fitted-level-0);\n",
       "  border: var(--sklearn-color-fitted-level-3);\n",
       "}\n",
       "\n",
       ".sk-estimator-doc-link:hover span {\n",
       "  display: block;\n",
       "}\n",
       "\n",
       "/* \"?\"-specific style due to the `<a>` HTML tag */\n",
       "\n",
       "#sk-container-id-1 a.estimator_doc_link {\n",
       "  float: right;\n",
       "  font-size: 1rem;\n",
       "  line-height: 1em;\n",
       "  font-family: monospace;\n",
       "  background-color: var(--sklearn-color-background);\n",
       "  border-radius: 1rem;\n",
       "  height: 1rem;\n",
       "  width: 1rem;\n",
       "  text-decoration: none;\n",
       "  /* unfitted */\n",
       "  color: var(--sklearn-color-unfitted-level-1);\n",
       "  border: var(--sklearn-color-unfitted-level-1) 1pt solid;\n",
       "}\n",
       "\n",
       "#sk-container-id-1 a.estimator_doc_link.fitted {\n",
       "  /* fitted */\n",
       "  border: var(--sklearn-color-fitted-level-1) 1pt solid;\n",
       "  color: var(--sklearn-color-fitted-level-1);\n",
       "}\n",
       "\n",
       "/* On hover */\n",
       "#sk-container-id-1 a.estimator_doc_link:hover {\n",
       "  /* unfitted */\n",
       "  background-color: var(--sklearn-color-unfitted-level-3);\n",
       "  color: var(--sklearn-color-background);\n",
       "  text-decoration: none;\n",
       "}\n",
       "\n",
       "#sk-container-id-1 a.estimator_doc_link.fitted:hover {\n",
       "  /* fitted */\n",
       "  background-color: var(--sklearn-color-fitted-level-3);\n",
       "}\n",
       "</style><div id=\"sk-container-id-1\" class=\"sk-top-container\"><div class=\"sk-text-repr-fallback\"><pre>LinearRegression()</pre><b>In a Jupyter environment, please rerun this cell to show the HTML representation or trust the notebook. <br />On GitHub, the HTML representation is unable to render, please try loading this page with nbviewer.org.</b></div><div class=\"sk-container\" hidden><div class=\"sk-item\"><div class=\"sk-estimator fitted sk-toggleable\"><input class=\"sk-toggleable__control sk-hidden--visually\" id=\"sk-estimator-id-1\" type=\"checkbox\" checked><label for=\"sk-estimator-id-1\" class=\"sk-toggleable__label fitted sk-toggleable__label-arrow\"><div><div>LinearRegression</div></div><div><a class=\"sk-estimator-doc-link fitted\" rel=\"noreferrer\" target=\"_blank\" href=\"https://scikit-learn.org/1.6/modules/generated/sklearn.linear_model.LinearRegression.html\">?<span>Documentation for LinearRegression</span></a><span class=\"sk-estimator-doc-link fitted\">i<span>Fitted</span></span></div></label><div class=\"sk-toggleable__content fitted\"><pre>LinearRegression()</pre></div> </div></div></div></div>"
      ],
      "text/plain": [
       "LinearRegression()"
      ]
     },
     "execution_count": 23,
     "metadata": {},
     "output_type": "execute_result"
    }
   ],
   "source": [
    "# Importing required libraries\n",
    "from sklearn.linear_model import LinearRegression\n",
    "model= LinearRegression()             # Creating a Linear regression object\n",
    "model.fit(X_train_scaled,Y_train)"
   ]
  },
  {
   "cell_type": "code",
   "execution_count": 24,
   "id": "3b63afff-25f2-4901-9327-e370a833a5f4",
   "metadata": {},
   "outputs": [
    {
     "name": "stdout",
     "output_type": "stream",
     "text": [
      "0.9865532866830781\n"
     ]
    }
   ],
   "source": [
    "print(model.score(X_train_scaled,Y_train))        #checking the accuracy of the model"
   ]
  },
  {
   "cell_type": "markdown",
   "id": "c2ff1260-1a65-42ea-be91-b92cccbc3c93",
   "metadata": {},
   "source": [
    "The model has an Accuracy of 0.9866 on training data, meaning it fits the data very well."
   ]
  },
  {
   "cell_type": "code",
   "execution_count": 25,
   "id": "6f55e291-f259-48b1-b36d-e1d207f0f4b1",
   "metadata": {},
   "outputs": [
    {
     "name": "stdout",
     "output_type": "stream",
     "text": [
      "0.9898888538575635\n"
     ]
    }
   ],
   "source": [
    "from sklearn.metrics import r2_score\n",
    "prediction=model.predict(X_test_scaled)\n",
    "print(r2_score(Y_test,prediction))"
   ]
  },
  {
   "cell_type": "markdown",
   "id": "55694537-50b2-477e-96aa-252cd2e5c80d",
   "metadata": {},
   "source": [
    "The model is performing extremely well on the test data.<br>\n",
    "Predictions are very close to the actual values."
   ]
  },
  {
   "cell_type": "code",
   "execution_count": 32,
   "id": "f059e3f2-6cc4-4c6f-b0e7-bab2ee9c008a",
   "metadata": {},
   "outputs": [
    {
     "data": {
      "text/html": [
       "<div>\n",
       "<style scoped>\n",
       "    .dataframe tbody tr th:only-of-type {\n",
       "        vertical-align: middle;\n",
       "    }\n",
       "\n",
       "    .dataframe tbody tr th {\n",
       "        vertical-align: top;\n",
       "    }\n",
       "\n",
       "    .dataframe thead th {\n",
       "        text-align: right;\n",
       "    }\n",
       "</style>\n",
       "<table border=\"1\" class=\"dataframe\">\n",
       "  <thead>\n",
       "    <tr style=\"text-align: right;\">\n",
       "      <th></th>\n",
       "      <th>Resale_Price</th>\n",
       "    </tr>\n",
       "  </thead>\n",
       "  <tbody>\n",
       "    <tr>\n",
       "      <th>304</th>\n",
       "      <td>178890.0</td>\n",
       "    </tr>\n",
       "    <tr>\n",
       "      <th>340</th>\n",
       "      <td>50000.0</td>\n",
       "    </tr>\n",
       "    <tr>\n",
       "      <th>47</th>\n",
       "      <td>350423.0</td>\n",
       "    </tr>\n",
       "    <tr>\n",
       "      <th>67</th>\n",
       "      <td>156023.0</td>\n",
       "    </tr>\n",
       "    <tr>\n",
       "      <th>479</th>\n",
       "      <td>399472.5</td>\n",
       "    </tr>\n",
       "  </tbody>\n",
       "</table>\n",
       "</div>"
      ],
      "text/plain": [
       "     Resale_Price\n",
       "304      178890.0\n",
       "340       50000.0\n",
       "47       350423.0\n",
       "67       156023.0\n",
       "479      399472.5"
      ]
     },
     "execution_count": 32,
     "metadata": {},
     "output_type": "execute_result"
    }
   ],
   "source": [
    "Y_test[\"Resale_Price\"]\n",
    "result = Y_test\n",
    "result.head()"
   ]
  },
  {
   "cell_type": "code",
   "execution_count": 33,
   "id": "edaab74d-77a5-4531-b1b4-b660be973be1",
   "metadata": {},
   "outputs": [
    {
     "data": {
      "text/html": [
       "<div>\n",
       "<style scoped>\n",
       "    .dataframe tbody tr th:only-of-type {\n",
       "        vertical-align: middle;\n",
       "    }\n",
       "\n",
       "    .dataframe tbody tr th {\n",
       "        vertical-align: top;\n",
       "    }\n",
       "\n",
       "    .dataframe thead th {\n",
       "        text-align: right;\n",
       "    }\n",
       "</style>\n",
       "<table border=\"1\" class=\"dataframe\">\n",
       "  <thead>\n",
       "    <tr style=\"text-align: right;\">\n",
       "      <th></th>\n",
       "      <th>index</th>\n",
       "      <th>Resale_Price</th>\n",
       "    </tr>\n",
       "  </thead>\n",
       "  <tbody>\n",
       "    <tr>\n",
       "      <th>0</th>\n",
       "      <td>304</td>\n",
       "      <td>178890.0</td>\n",
       "    </tr>\n",
       "    <tr>\n",
       "      <th>1</th>\n",
       "      <td>340</td>\n",
       "      <td>50000.0</td>\n",
       "    </tr>\n",
       "    <tr>\n",
       "      <th>2</th>\n",
       "      <td>47</td>\n",
       "      <td>350423.0</td>\n",
       "    </tr>\n",
       "    <tr>\n",
       "      <th>3</th>\n",
       "      <td>67</td>\n",
       "      <td>156023.0</td>\n",
       "    </tr>\n",
       "    <tr>\n",
       "      <th>4</th>\n",
       "      <td>479</td>\n",
       "      <td>399472.5</td>\n",
       "    </tr>\n",
       "  </tbody>\n",
       "</table>\n",
       "</div>"
      ],
      "text/plain": [
       "   index  Resale_Price\n",
       "0    304      178890.0\n",
       "1    340       50000.0\n",
       "2     47      350423.0\n",
       "3     67      156023.0\n",
       "4    479      399472.5"
      ]
     },
     "execution_count": 33,
     "metadata": {},
     "output_type": "execute_result"
    }
   ],
   "source": [
    "result = result.reset_index()\n",
    "result.head()"
   ]
  },
  {
   "cell_type": "code",
   "execution_count": 41,
   "id": "563e5f40-41d3-47e6-a549-3f20fcab34b4",
   "metadata": {},
   "outputs": [
    {
     "data": {
      "text/html": [
       "<div>\n",
       "<style scoped>\n",
       "    .dataframe tbody tr th:only-of-type {\n",
       "        vertical-align: middle;\n",
       "    }\n",
       "\n",
       "    .dataframe tbody tr th {\n",
       "        vertical-align: top;\n",
       "    }\n",
       "\n",
       "    .dataframe thead th {\n",
       "        text-align: right;\n",
       "    }\n",
       "</style>\n",
       "<table border=\"1\" class=\"dataframe\">\n",
       "  <thead>\n",
       "    <tr style=\"text-align: right;\">\n",
       "      <th></th>\n",
       "      <th>Resale_Price</th>\n",
       "      <th>prediction_of_sales</th>\n",
       "    </tr>\n",
       "  </thead>\n",
       "  <tbody>\n",
       "    <tr>\n",
       "      <th>0</th>\n",
       "      <td>178890.0</td>\n",
       "      <td>170004.566348</td>\n",
       "    </tr>\n",
       "    <tr>\n",
       "      <th>1</th>\n",
       "      <td>50000.0</td>\n",
       "      <td>-2255.213379</td>\n",
       "    </tr>\n",
       "    <tr>\n",
       "      <th>2</th>\n",
       "      <td>350423.0</td>\n",
       "      <td>359401.900861</td>\n",
       "    </tr>\n",
       "    <tr>\n",
       "      <th>3</th>\n",
       "      <td>156023.0</td>\n",
       "      <td>147680.646355</td>\n",
       "    </tr>\n",
       "    <tr>\n",
       "      <th>4</th>\n",
       "      <td>399472.5</td>\n",
       "      <td>386738.031568</td>\n",
       "    </tr>\n",
       "  </tbody>\n",
       "</table>\n",
       "</div>"
      ],
      "text/plain": [
       "   Resale_Price  prediction_of_sales\n",
       "0      178890.0        170004.566348\n",
       "1       50000.0         -2255.213379\n",
       "2      350423.0        359401.900861\n",
       "3      156023.0        147680.646355\n",
       "4      399472.5        386738.031568"
      ]
     },
     "execution_count": 41,
     "metadata": {},
     "output_type": "execute_result"
    }
   ],
   "source": [
    "result[\"prediction_of_sales\"] = prediction  # if prediction is 1D\n",
    "result.head()"
   ]
  },
  {
   "cell_type": "code",
   "execution_count": 42,
   "id": "06501470-2df5-4e89-9927-d2602de8bc37",
   "metadata": {},
   "outputs": [
    {
     "data": {
      "text/plain": [
       "0     8885.433652\n",
       "1    52255.213379\n",
       "2    -8978.900861\n",
       "3     8342.353645\n",
       "4    12734.468432\n",
       "dtype: float64"
      ]
     },
     "execution_count": 42,
     "metadata": {},
     "output_type": "execute_result"
    }
   ],
   "source": [
    "error=result[\"Resale_Price\"]-result[\"prediction_of_sales\"] \n",
    "error.head()"
   ]
  },
  {
   "cell_type": "code",
   "execution_count": 43,
   "id": "77123c20-291b-4237-aa05-a2441d4a2507",
   "metadata": {},
   "outputs": [
    {
     "name": "stdout",
     "output_type": "stream",
     "text": [
      "0.9898888538575635\n"
     ]
    }
   ],
   "source": [
    "from sklearn.metrics import r2_score\n",
    "prediction=model.predict(X_test_scaled)\n",
    "print(r2_score(result[\"Resale_Price\"],result[\"prediction_of_sales\"] ))"
   ]
  },
  {
   "cell_type": "markdown",
   "id": "4fc0cc2d-f2ff-4504-8d39-99deb9395d2f",
   "metadata": {},
   "source": [
    "## Conclusion:\n",
    "\n",
    "The car resale value prediction model works very well and gives accurate results.\n",
    "It can help buyers know a fair price before buying a used car and help sellers set the right price when selling.\n",
    "This makes the process easier, faster, and more reliable for everyone in the used car market."
   ]
  },
  {
   "cell_type": "markdown",
   "id": "77a9fe64-bf48-48d7-8d75-f454347af490",
   "metadata": {},
   "source": [
    "## Future Scope:\n",
    "The model can be improved by using more data and adding new features like mileage, service history, or market trends.\n",
    "In the future, it can also be developed into a mobile or web app so that anyone can easily check the resale value of their car."
   ]
  },
  {
   "cell_type": "code",
   "execution_count": null,
   "id": "d828a649-971f-423e-8554-c3e584adbe97",
   "metadata": {},
   "outputs": [],
   "source": []
  }
 ],
 "metadata": {
  "kernelspec": {
   "display_name": "Python [conda env:base] *",
   "language": "python",
   "name": "conda-base-py"
  },
  "language_info": {
   "codemirror_mode": {
    "name": "ipython",
    "version": 3
   },
   "file_extension": ".py",
   "mimetype": "text/x-python",
   "name": "python",
   "nbconvert_exporter": "python",
   "pygments_lexer": "ipython3",
   "version": "3.13.5"
  }
 },
 "nbformat": 4,
 "nbformat_minor": 5
}
